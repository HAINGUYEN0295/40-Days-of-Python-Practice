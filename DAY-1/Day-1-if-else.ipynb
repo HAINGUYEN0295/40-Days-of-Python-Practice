{
 "cells": [
  {
   "cell_type": "markdown",
   "metadata": {},
   "source": [
    "## Bài toán tính lịch Can-Chi "
   ]
  },
  {
   "cell_type": "code",
   "execution_count": 9,
   "metadata": {},
   "outputs": [
    {
     "name": "stdout",
     "output_type": "stream",
     "text": [
      "Nhập năm bạn muốn chuyển đổi: \n"
     ]
    },
    {
     "data": {
      "text/plain": [
       "'Canh Ngọ'"
      ]
     },
     "execution_count": 9,
     "metadata": {},
     "output_type": "execute_result"
    }
   ],
   "source": [
    "# CÁCH 1\n",
    "def calculate_can_chi_calendar(year):\n",
    "    can = \"\"\n",
    "    chi = \"\"\n",
    "    if year % 10 == 0:\n",
    "        can = \"Canh\"\n",
    "    elif year % 10 == 1:\n",
    "        can = \"Tân\"\n",
    "    elif year % 10 == 2:\n",
    "        can = \"Nhâm\"\n",
    "    elif year % 10 == 3:\n",
    "        can = \"Quý\"\n",
    "    elif year % 10 == 4:\n",
    "        can = \"Giáp\"\n",
    "    elif year % 10 == 5:\n",
    "        can = \"Ất\"\n",
    "    elif year % 10 == 6:\n",
    "        can = \"Bính\"\n",
    "    elif year % 10 == 7:\n",
    "        can = \"Đinh\"\n",
    "    elif year % 10 == 8:\n",
    "        can = \"Mậu\"\n",
    "    elif year % 10 == 9:\n",
    "        can = \"Kỷ\"\n",
    "        \n",
    "    if year % 12 == 0:\n",
    "        chi = \"Thân\"\n",
    "    elif year % 12 == 1:\n",
    "        chi = \"Dậu\"\n",
    "    elif year % 12 == 2:\n",
    "        chi = \"Tuất\"\n",
    "    elif year % 12 == 3:\n",
    "        chi = \"Hợi\"\n",
    "    elif year % 12 == 4:\n",
    "        chi = \"Tý\"\n",
    "    elif year % 12 == 5:\n",
    "        chi = \"Sửu\"\n",
    "    elif year % 12 == 6:\n",
    "        chi = \"Dần\"\n",
    "    elif year % 12 == 7:\n",
    "        chi = \"Mẹo\"\n",
    "    elif year % 12 == 8:\n",
    "        chi = \"Thìn\"\n",
    "    elif year % 12 == 9:\n",
    "        chi = \"Tỵ\"\n",
    "    elif year % 12 == 10:\n",
    "        chi = \"Ngọ\"\n",
    "    elif year % 12 == 11:\n",
    "        chi = \"Mùi\"\n",
    "    result = can + \" \" + chi\n",
    "    return result\n",
    "num_year = int(input(print(\"Nhập năm bạn muốn chuyển đổi: \")))\n",
    "calculate_can_chi_calendar(num_year)"
   ]
  },
  {
   "cell_type": "code",
   "execution_count": 10,
   "metadata": {},
   "outputs": [
    {
     "name": "stdout",
     "output_type": "stream",
     "text": [
      "Nhập năm bạn muốn chuyển đổi: \n"
     ]
    },
    {
     "data": {
      "text/plain": [
       "'Ất Tỵ'"
      ]
     },
     "execution_count": 10,
     "metadata": {},
     "output_type": "execute_result"
    }
   ],
   "source": [
    "#cách 2\n",
    "def calculate_can_chi_calendar_2(year):\n",
    "    can = ['Canh', 'Tân', 'Nhâm', 'Quý', 'Giáp', 'Ất', 'Bính', 'Đinh', 'Mậu', 'Kỷ']\n",
    "    chi = ['Thân', 'Dậu', 'Tuất', 'Hợi', 'Tý', 'Sửu', 'Dần', 'Mão', 'Thìn', 'Tỵ', 'Ngọ', 'Mùi']\n",
    "    result = \"\"\n",
    "    can_index = can[year % 10]\n",
    "    chi_index = chi[year % 12]\n",
    "    result = can_index + \" \" + chi_index\n",
    "    return result \n",
    "num_year = int(input(print(\"Nhập năm bạn muốn chuyển đổi: \")))\n",
    "calculate_can_chi_calendar_2(num_year)"
   ]
  },
  {
   "cell_type": "code",
   "execution_count": 12,
   "metadata": {},
   "outputs": [
    {
     "name": "stdout",
     "output_type": "stream",
     "text": [
      "Nhập năm bạn muốn chuyển đổi: \n"
     ]
    },
    {
     "data": {
      "text/plain": [
       "'Ất Tỵ'"
      ]
     },
     "execution_count": 12,
     "metadata": {},
     "output_type": "execute_result"
    }
   ],
   "source": [
    "#cách 2.2\n",
    "def calculate_can_chi_calendar_2(year):\n",
    "    can = ['Canh', 'Tân', 'Nhâm', 'Quý', 'Giáp', 'Ất', 'Bính', 'Đinh', 'Mậu', 'Kỷ']\n",
    "    chi = ['Thân', 'Dậu', 'Tuất', 'Hợi', 'Tý', 'Sửu', 'Dần', 'Mão', 'Thìn', 'Tỵ', 'Ngọ', 'Mùi']\n",
    "    result = \"\"\n",
    "    result += can[year % 10] + \" \"\n",
    "    result += chi[year % 12]\n",
    "    return result \n",
    "num_year = int(input(print(\"Nhập năm bạn muốn chuyển đổi: \")))\n",
    "calculate_can_chi_calendar_2(num_year)"
   ]
  }
 ],
 "metadata": {
  "kernelspec": {
   "display_name": "Nam",
   "language": "python",
   "name": "python3"
  },
  "language_info": {
   "codemirror_mode": {
    "name": "ipython",
    "version": 3
   },
   "file_extension": ".py",
   "mimetype": "text/x-python",
   "name": "python",
   "nbconvert_exporter": "python",
   "pygments_lexer": "ipython3",
   "version": "3.12.3"
  }
 },
 "nbformat": 4,
 "nbformat_minor": 2
}
